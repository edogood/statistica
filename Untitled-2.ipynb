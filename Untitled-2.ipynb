{
 "cells": [
  {
   "cell_type": "code",
   "execution_count": 8,
   "metadata": {},
   "outputs": [],
   "source": [
    "import pandas as pd\n",
    "import numpy as np\n",
    "import matplotlib.pyplot as plt\n"
   ]
  },
  {
   "cell_type": "code",
   "execution_count": 6,
   "metadata": {},
   "outputs": [
    {
     "data": {
      "text/html": [
       "<div>\n",
       "<style scoped>\n",
       "    .dataframe tbody tr th:only-of-type {\n",
       "        vertical-align: middle;\n",
       "    }\n",
       "\n",
       "    .dataframe tbody tr th {\n",
       "        vertical-align: top;\n",
       "    }\n",
       "\n",
       "    .dataframe thead th {\n",
       "        text-align: right;\n",
       "    }\n",
       "</style>\n",
       "<table border=\"1\" class=\"dataframe\">\n",
       "  <thead>\n",
       "    <tr style=\"text-align: right;\">\n",
       "      <th></th>\n",
       "      <th>premio</th>\n",
       "      <th>n_bigl</th>\n",
       "      <th>freq</th>\n",
       "      <th>prob</th>\n",
       "    </tr>\n",
       "  </thead>\n",
       "  <tbody>\n",
       "    <tr>\n",
       "      <th>0</th>\n",
       "      <td>1936849</td>\n",
       "      <td>12</td>\n",
       "      <td>4.560000e+06</td>\n",
       "      <td>2.192982e-07</td>\n",
       "    </tr>\n",
       "    <tr>\n",
       "      <th>1</th>\n",
       "      <td>50000</td>\n",
       "      <td>24</td>\n",
       "      <td>2.280000e+06</td>\n",
       "      <td>4.385965e-07</td>\n",
       "    </tr>\n",
       "    <tr>\n",
       "      <th>2</th>\n",
       "      <td>10000</td>\n",
       "      <td>96</td>\n",
       "      <td>5.700000e+05</td>\n",
       "      <td>1.754386e-06</td>\n",
       "    </tr>\n",
       "    <tr>\n",
       "      <th>3</th>\n",
       "      <td>5000</td>\n",
       "      <td>204</td>\n",
       "      <td>2.682353e+05</td>\n",
       "      <td>3.728070e-06</td>\n",
       "    </tr>\n",
       "    <tr>\n",
       "      <th>4</th>\n",
       "      <td>1000</td>\n",
       "      <td>3648</td>\n",
       "      <td>1.500000e+04</td>\n",
       "      <td>6.666667e-05</td>\n",
       "    </tr>\n",
       "    <tr>\n",
       "      <th>5</th>\n",
       "      <td>500</td>\n",
       "      <td>3192</td>\n",
       "      <td>1.714286e+04</td>\n",
       "      <td>5.833332e-05</td>\n",
       "    </tr>\n",
       "    <tr>\n",
       "      <th>6</th>\n",
       "      <td>200</td>\n",
       "      <td>58140</td>\n",
       "      <td>9.411800e+02</td>\n",
       "      <td>1.062496e-03</td>\n",
       "    </tr>\n",
       "    <tr>\n",
       "      <th>7</th>\n",
       "      <td>100</td>\n",
       "      <td>129960</td>\n",
       "      <td>4.210500e+02</td>\n",
       "      <td>2.375015e-03</td>\n",
       "    </tr>\n",
       "    <tr>\n",
       "      <th>8</th>\n",
       "      <td>50</td>\n",
       "      <td>394440</td>\n",
       "      <td>1.387300e+02</td>\n",
       "      <td>7.208246e-03</td>\n",
       "    </tr>\n",
       "    <tr>\n",
       "      <th>9</th>\n",
       "      <td>20</td>\n",
       "      <td>912000</td>\n",
       "      <td>6.000000e+01</td>\n",
       "      <td>1.666667e-02</td>\n",
       "    </tr>\n",
       "    <tr>\n",
       "      <th>10</th>\n",
       "      <td>15</td>\n",
       "      <td>1185600</td>\n",
       "      <td>4.615000e+01</td>\n",
       "      <td>2.166847e-02</td>\n",
       "    </tr>\n",
       "    <tr>\n",
       "      <th>11</th>\n",
       "      <td>10</td>\n",
       "      <td>5016000</td>\n",
       "      <td>1.091000e+01</td>\n",
       "      <td>9.165903e-02</td>\n",
       "    </tr>\n",
       "    <tr>\n",
       "      <th>12</th>\n",
       "      <td>5</td>\n",
       "      <td>7296000</td>\n",
       "      <td>7.500000e+00</td>\n",
       "      <td>1.333333e-01</td>\n",
       "    </tr>\n",
       "    <tr>\n",
       "      <th>13</th>\n",
       "      <td>0</td>\n",
       "      <td>39720684</td>\n",
       "      <td>1.377609e+00</td>\n",
       "      <td>7.258956e-01</td>\n",
       "    </tr>\n",
       "  </tbody>\n",
       "</table>\n",
       "</div>"
      ],
      "text/plain": [
       "     premio    n_bigl          freq          prob\n",
       "0   1936849        12  4.560000e+06  2.192982e-07\n",
       "1     50000        24  2.280000e+06  4.385965e-07\n",
       "2     10000        96  5.700000e+05  1.754386e-06\n",
       "3      5000       204  2.682353e+05  3.728070e-06\n",
       "4      1000      3648  1.500000e+04  6.666667e-05\n",
       "5       500      3192  1.714286e+04  5.833332e-05\n",
       "6       200     58140  9.411800e+02  1.062496e-03\n",
       "7       100    129960  4.210500e+02  2.375015e-03\n",
       "8        50    394440  1.387300e+02  7.208246e-03\n",
       "9        20    912000  6.000000e+01  1.666667e-02\n",
       "10       15   1185600  4.615000e+01  2.166847e-02\n",
       "11       10   5016000  1.091000e+01  9.165903e-02\n",
       "12        5   7296000  7.500000e+00  1.333333e-01\n",
       "13        0  39720684  1.377609e+00  7.258956e-01"
      ]
     },
     "execution_count": 6,
     "metadata": {},
     "output_type": "execute_result"
    }
   ],
   "source": [
    "df_probs = pd.read_excel(\"turista_per_sempre.xlsx\")\n",
    "df_probs"
   ]
  },
  {
   "cell_type": "code",
   "execution_count": 10,
   "metadata": {},
   "outputs": [
    {
     "name": "stdout",
     "output_type": "stream",
     "text": [
      "3.630725320495673\n"
     ]
    }
   ],
   "source": [
    "#vincita media per biglietto\n",
    "media_distr = [df_probs[\"premio\"][i]*df_probs[\"prob\"][i] for i in range(len(df_probs))]\n",
    "media = sum(media_distr)\n",
    "print(media)    \n"
   ]
  },
  {
   "cell_type": "code",
   "execution_count": 147,
   "metadata": {},
   "outputs": [
    {
     "name": "stdout",
     "output_type": "stream",
     "text": [
      "cash finale: -10545\n"
     ]
    },
    {
     "data": {
      "image/png": "[encoded data removed]",
      "text/plain": [
       "<Figure size 640x480 with 1 Axes>"
      ]
     },
     "metadata": {},
     "output_type": "display_data"
    }
   ],
   "source": [
    "def simula(cash_0, costo_biglietto, n_settimane, n_anni, n_biglietti_sett, df_probs):\n",
    "    cash = cash_0\n",
    "    cash_anni = np.zeros(n_anni)\n",
    "    n_biglietti_totali = n_anni * n_settimane * n_biglietti_sett\n",
    "    \n",
    "    # Genera tutti i premi in un unico passaggio\n",
    "    premi = np.random.choice(df_probs.premio, size=n_biglietti_totali, p=df_probs.prob)\n",
    "    \n",
    "    # Calcola il cash totale\n",
    "    cash -= n_biglietti_totali * costo_biglietto\n",
    "    cash += np.sum(premi)\n",
    "    \n",
    "    # Divide i risultati per anno\n",
    "    premi_annui = premi.reshape(n_anni, -1).sum(axis=1)\n",
    "    cash_anni = np.cumsum(premi_annui - (n_settimane * n_biglietti_sett * costo_biglietto)) + cash_0\n",
    "    \n",
    "    return cash, cash_anni\n",
    " \n",
    " \n",
    "cash_0 =0\n",
    "costo_biglietto = 5\n",
    "n_settimane = 52\n",
    "n_anni= 20\n",
    "n_biglietti_sett = 5\n",
    " \n",
    "cash, cash_anni = simula(cash_0, costo_biglietto, n_settimane, n_anni, n_biglietti_sett, df_probs)\n",
    " \n",
    "print(\"cash finale:\", cash)\n",
    "\n",
    "plt.plot(cash_anni)\n",
    "plt.show()\n",
    " \n",
    " "
   ]
  },
  {
   "cell_type": "code",
   "execution_count": 159,
   "metadata": {},
   "outputs": [
    {
     "name": "stdout",
     "output_type": "stream",
     "text": [
      "media: -7198.72486\n",
      "std: 64269.50094541887\n",
      "min: -13255\n",
      "max: 1978229\n",
      "percentile 5: -11060.0\n",
      "percentile 95: -7365.0\n",
      "percentile 99: -254.94999999995343\n"
     ]
    },
    {
     "data": {
      "image/png": "[encoded data removed]",
      "text/plain": [
       "<Figure size 640x480 with 1 Axes>"
      ]
     },
     "metadata": {},
     "output_type": "display_data"
    }
   ],
   "source": [
    "n_sim = 500000\n",
    "cashs = []\n",
    "for i in range(n_sim):\n",
    "    cash, cash_anni = simula(cash_0, costo_biglietto, n_settimane, n_anni, n_biglietti_sett, df_probs)\n",
    "    cashs.append(cash)\n",
    "    \n",
    "print(\"media:\", np.mean(cashs))\n",
    "print(\"std:\", np.std(cashs))\n",
    "print(\"min:\", np.min(cashs))\n",
    "print(\"max:\", np.max(cashs))\n",
    "print(\"percentile 5:\", np.percentile(cashs, 5))\n",
    "print(\"percentile 95:\", np.percentile(cashs, 95))\n",
    "print(\"percentile 99:\", np.percentile(cashs, 99))\n",
    "\n",
    "\n",
    "plt.hist(cashs)\n",
    "plt.show()\n"
   ]
  }
 ],
 "metadata": {
  "kernelspec": {
   "display_name": "Python 3",
   "language": "python",
   "name": "python3"
  },
  "language_info": {
   "codemirror_mode": {
    "name": "ipython",
    "version": 3
   },
   "file_extension": ".py",
   "mimetype": "text/x-python",
   "name": "python",
   "nbconvert_exporter": "python",
   "pygments_lexer": "ipython3",
   "version": "3.13.2"
  }
 },
 "nbformat": 4,
 "nbformat_minor": 2
}
